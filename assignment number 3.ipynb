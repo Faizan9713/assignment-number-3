{
 "cells": [
  {
   "cell_type": "code",
   "execution_count": null,
   "id": "e7c36e7a",
   "metadata": {},
   "outputs": [],
   "source": [
    "#1. Why are functions advantageous to have in your programs?\n",
    "ans =  function reduce the need for duplicate code and make programs easier and shorter to run or update"
   ]
  },
  {
   "cell_type": "code",
   "execution_count": null,
   "id": "7ce82e25",
   "metadata": {},
   "outputs": [],
   "source": [
    "#2. When does the code in a function run: when it's specified or when it's called?\n",
    "ans = the code in a function is run when the function is called and not when the function is defined "
   ]
  },
  {
   "cell_type": "code",
   "execution_count": null,
   "id": "40fd88a2",
   "metadata": {},
   "outputs": [],
   "source": [
    "#3. What statement creates a function?\n",
    "ans = def statement is used to creat a function"
   ]
  },
  {
   "cell_type": "code",
   "execution_count": null,
   "id": "1b3fa638",
   "metadata": {},
   "outputs": [],
   "source": [
    "#4. What is the difference between a function and a function call?\n",
    "ans = function is a consists of def statement and the code in its \n",
    "and function call is what movies the program in execution into the function and the function call evaluate to the function return value"
   ]
  },
  {
   "cell_type": "code",
   "execution_count": null,
   "id": "b6966aa5",
   "metadata": {},
   "outputs": [],
   "source": [
    "#5. How many global scopes are there in a Python program? How many local scopes?\n",
    "ans = there is only one global scope in python per program execution\n",
    "at the tiem of execution only one local scope in program"
   ]
  },
  {
   "cell_type": "code",
   "execution_count": null,
   "id": "dc4607e9",
   "metadata": {},
   "outputs": [],
   "source": [
    "#6. What happens to variables in a local scope when the function call returns?\n",
    "ans = when the function returns the local scope is distroye and all the variables in it are forgotten"
   ]
  },
  {
   "cell_type": "code",
   "execution_count": null,
   "id": "4f60cf4d",
   "metadata": {},
   "outputs": [],
   "source": [
    "#7. What is the concept of a return value? Is it possible to have a return value in an expression?\n",
    "ans  = return value is a value that function call evalutes to like any value and its used as apart of expresion"
   ]
  },
  {
   "cell_type": "code",
   "execution_count": null,
   "id": "6c511c24",
   "metadata": {},
   "outputs": [],
   "source": [
    "#8. If a function does not have a return statement, what is the return value of a call to that function?\n",
    "ans  = there is no return statement for function its value is none"
   ]
  },
  {
   "cell_type": "code",
   "execution_count": null,
   "id": "7d0c395a",
   "metadata": {},
   "outputs": [],
   "source": [
    "#9. How do you make a function variable refer to the global variable?\n",
    "ans = we have used a global keywords to declear which variables are global"
   ]
  },
  {
   "cell_type": "code",
   "execution_count": null,
   "id": "d20ab6cd",
   "metadata": {},
   "outputs": [],
   "source": [
    "#10. What is the data type of None?\n",
    "ans  =  is nonetype"
   ]
  },
  {
   "cell_type": "code",
   "execution_count": null,
   "id": "06e55269",
   "metadata": {},
   "outputs": [],
   "source": [
    "#11. What does the sentence import areallyourpetsnamederic do?\n",
    "ans = that import statement import a module name areallyourpetsnamederic"
   ]
  },
  {
   "cell_type": "code",
   "execution_count": null,
   "id": "df04ef1d",
   "metadata": {},
   "outputs": [],
   "source": [
    "#12. If you had a bacon() feature in a spam module, what would you call it after importing spam?\n",
    "ans = its called as spam.bacon()"
   ]
  },
  {
   "cell_type": "code",
   "execution_count": null,
   "id": "6458ac9e",
   "metadata": {},
   "outputs": [],
   "source": [
    "#13. What can you do to save a programme from crashing if it encounters an error?\n",
    "ans  = we have move our code inside try and except statement try running the program and it will thorw the error message \n",
    "inside of crashing program\n",
    "or place the line of code that might cause an error in a try clause"
   ]
  },
  {
   "cell_type": "code",
   "execution_count": null,
   "id": "83c64890",
   "metadata": {},
   "outputs": [],
   "source": [
    "#14. What is the purpose of the try clause? What is the purpose of the except clause?\n",
    "ans = the code that could potentially an error goes in the try clause .\n",
    "the code that excutes if an error happens goes in the except clause "
   ]
  }
 ],
 "metadata": {
  "kernelspec": {
   "display_name": "Python 3 (ipykernel)",
   "language": "python",
   "name": "python3"
  },
  "language_info": {
   "codemirror_mode": {
    "name": "ipython",
    "version": 3
   },
   "file_extension": ".py",
   "mimetype": "text/x-python",
   "name": "python",
   "nbconvert_exporter": "python",
   "pygments_lexer": "ipython3",
   "version": "3.9.12"
  }
 },
 "nbformat": 4,
 "nbformat_minor": 5
}
